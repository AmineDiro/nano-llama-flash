{
 "cells": [
  {
   "cell_type": "code",
   "execution_count": 1,
   "id": "0ab33e3b-7ead-4aa1-8f7f-abe29e4aaefd",
   "metadata": {},
   "outputs": [
    {
     "name": "stderr",
     "output_type": "stream",
     "text": [
      "/home/amine/coding/llama-flash/.venv/lib/python3.13/site-packages/torch/_subclasses/functional_tensor.py:279: UserWarning: Failed to initialize NumPy: No module named 'numpy' (Triggered internally at /pytorch/torch/csrc/utils/tensor_numpy.cpp:84.)\n",
      "  cpu = _conversion_method_template(device=torch.device(\"cpu\"))\n"
     ]
    }
   ],
   "source": [
    "import torch"
   ]
  },
  {
   "cell_type": "code",
   "execution_count": 4,
   "id": "d867d736-f9ea-46ac-a336-b78538bbb883",
   "metadata": {},
   "outputs": [],
   "source": [
    "batch_size, seq_len, n_kv_heads, head_dim = 1, 10, 4, 4096\n",
    "n_heads= 64\n",
    "n_rep = 4"
   ]
  },
  {
   "cell_type": "code",
   "execution_count": 3,
   "id": "b3d5aee5-4780-49f4-8acd-bf4189cc4f28",
   "metadata": {},
   "outputs": [],
   "source": [
    "x = torch.rand(batch_size, seq_len, n_kv_heads, head_dim )"
   ]
  },
  {
   "cell_type": "code",
   "execution_count": 8,
   "id": "61044283-0b67-4108-a5c2-5798369c4cd5",
   "metadata": {},
   "outputs": [
    {
     "data": {
      "text/plain": [
       "torch.Size([1, 10, 4, 4096])"
      ]
     },
     "execution_count": 8,
     "metadata": {},
     "output_type": "execute_result"
    }
   ],
   "source": [
    "x.size()"
   ]
  },
  {
   "cell_type": "code",
   "execution_count": 10,
   "id": "90b366e9-79af-48ea-93c5-091fd234ebb9",
   "metadata": {},
   "outputs": [
    {
     "data": {
      "text/plain": [
       "torch.Size([1, 10, 4, 1, 4096])"
      ]
     },
     "execution_count": 10,
     "metadata": {},
     "output_type": "execute_result"
    }
   ],
   "source": [
    "x[:,:,:,None,:].shape"
   ]
  },
  {
   "cell_type": "code",
   "execution_count": 13,
   "id": "808ab4eb-a72b-4bbc-b444-cc0a23f9b813",
   "metadata": {},
   "outputs": [
    {
     "data": {
      "text/plain": [
       "torch.Size([1, 10, 4, 4, 4096])"
      ]
     },
     "execution_count": 13,
     "metadata": {},
     "output_type": "execute_result"
    }
   ],
   "source": [
    "x[:,:,:,None,:].expand(batch_size, seq_len, n_kv_heads, n_rep, head_dim).shape"
   ]
  },
  {
   "cell_type": "code",
   "execution_count": 18,
   "id": "e146c79c-7281-4f47-958c-c525514647d9",
   "metadata": {},
   "outputs": [
    {
     "data": {
      "text/plain": [
       "torch.Size([1, 10, 16, 4096])"
      ]
     },
     "execution_count": 18,
     "metadata": {},
     "output_type": "execute_result"
    }
   ],
   "source": [
    "x[:,:,:,None,:].expand(batch_size, seq_len, n_kv_heads, n_rep, head_dim).reshape(batch_size, seq_len, n_kv_heads* n_rep, head_dim).shape"
   ]
  },
  {
   "cell_type": "code",
   "execution_count": 3,
   "id": "6bbafe60-6e5e-4fe7-9de5-4a261f2b7fe6",
   "metadata": {},
   "outputs": [],
   "source": [
    "## Q strides"
   ]
  },
  {
   "cell_type": "code",
   "execution_count": 5,
   "id": "82a95556-f780-49ee-93d4-c37b51b77050",
   "metadata": {},
   "outputs": [],
   "source": [
    "q = torch.rand(batch_size, n_heads, seq_len, head_dim)"
   ]
  },
  {
   "cell_type": "code",
   "execution_count": 9,
   "id": "ec74fb57-330d-4483-b444-c136c0d86add",
   "metadata": {},
   "outputs": [
    {
     "data": {
      "text/plain": [
       "torch.Size([1, 64, 10, 4096])"
      ]
     },
     "execution_count": 9,
     "metadata": {},
     "output_type": "execute_result"
    }
   ],
   "source": [
    "q.shape"
   ]
  },
  {
   "cell_type": "code",
   "execution_count": 15,
   "id": "c6875952-8ef9-4f04-abc4-0533ac53fa4b",
   "metadata": {},
   "outputs": [
    {
     "data": {
      "text/plain": [
       "4096"
      ]
     },
     "execution_count": 15,
     "metadata": {},
     "output_type": "execute_result"
    }
   ],
   "source": [
    "q.stride(2)"
   ]
  },
  {
   "cell_type": "code",
   "execution_count": 16,
   "id": "ddf02bd1-0430-4f56-b6f2-6a8d729ee0f4",
   "metadata": {},
   "outputs": [
    {
     "data": {
      "text/plain": [
       "(2621440, 40960, 4096, 1)"
      ]
     },
     "execution_count": 16,
     "metadata": {},
     "output_type": "execute_result"
    }
   ],
   "source": [
    "q.stride()"
   ]
  },
  {
   "cell_type": "code",
   "execution_count": null,
   "id": "fb2864a5-21a3-45a2-a89c-5d28fec24bd3",
   "metadata": {},
   "outputs": [],
   "source": []
  }
 ],
 "metadata": {
  "kernelspec": {
   "display_name": "Python 3 (ipykernel)",
   "language": "python",
   "name": "python3"
  },
  "language_info": {
   "codemirror_mode": {
    "name": "ipython",
    "version": 3
   },
   "file_extension": ".py",
   "mimetype": "text/x-python",
   "name": "python",
   "nbconvert_exporter": "python",
   "pygments_lexer": "ipython3",
   "version": "3.13.7"
  }
 },
 "nbformat": 4,
 "nbformat_minor": 5
}
