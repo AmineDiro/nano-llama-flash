{
 "cells": [
  {
   "cell_type": "code",
   "execution_count": 1,
   "id": "0ab33e3b-7ead-4aa1-8f7f-abe29e4aaefd",
   "metadata": {},
   "outputs": [
    {
     "name": "stderr",
     "output_type": "stream",
     "text": [
      "/home/amine/coding/llama-flash/.venv/lib/python3.13/site-packages/torch/_subclasses/functional_tensor.py:279: UserWarning: Failed to initialize NumPy: No module named 'numpy' (Triggered internally at /pytorch/torch/csrc/utils/tensor_numpy.cpp:84.)\n",
      "  cpu = _conversion_method_template(device=torch.device(\"cpu\"))\n"
     ]
    }
   ],
   "source": [
    "import torch"
   ]
  },
  {
   "cell_type": "code",
   "execution_count": 11,
   "id": "d867d736-f9ea-46ac-a336-b78538bbb883",
   "metadata": {},
   "outputs": [],
   "source": [
    "batch_size, seq_len, n_kv_heads, head_dim = 1, 10, 4, 4096\n",
    "n_rep = 4"
   ]
  },
  {
   "cell_type": "code",
   "execution_count": 3,
   "id": "b3d5aee5-4780-49f4-8acd-bf4189cc4f28",
   "metadata": {},
   "outputs": [],
   "source": [
    "x = torch.rand(batch_size, seq_len, n_kv_heads, head_dim )"
   ]
  },
  {
   "cell_type": "code",
   "execution_count": 8,
   "id": "61044283-0b67-4108-a5c2-5798369c4cd5",
   "metadata": {},
   "outputs": [
    {
     "data": {
      "text/plain": [
       "torch.Size([1, 10, 4, 4096])"
      ]
     },
     "execution_count": 8,
     "metadata": {},
     "output_type": "execute_result"
    }
   ],
   "source": [
    "x.size()"
   ]
  },
  {
   "cell_type": "code",
   "execution_count": 10,
   "id": "90b366e9-79af-48ea-93c5-091fd234ebb9",
   "metadata": {},
   "outputs": [
    {
     "data": {
      "text/plain": [
       "torch.Size([1, 10, 4, 1, 4096])"
      ]
     },
     "execution_count": 10,
     "metadata": {},
     "output_type": "execute_result"
    }
   ],
   "source": [
    "x[:,:,:,None,:].shape"
   ]
  },
  {
   "cell_type": "code",
   "execution_count": 13,
   "id": "808ab4eb-a72b-4bbc-b444-cc0a23f9b813",
   "metadata": {},
   "outputs": [
    {
     "data": {
      "text/plain": [
       "torch.Size([1, 10, 4, 4, 4096])"
      ]
     },
     "execution_count": 13,
     "metadata": {},
     "output_type": "execute_result"
    }
   ],
   "source": [
    "x[:,:,:,None,:].expand(batch_size, seq_len, n_kv_heads, n_rep, head_dim).shape"
   ]
  },
  {
   "cell_type": "code",
   "execution_count": 18,
   "id": "e146c79c-7281-4f47-958c-c525514647d9",
   "metadata": {},
   "outputs": [
    {
     "data": {
      "text/plain": [
       "torch.Size([1, 10, 16, 4096])"
      ]
     },
     "execution_count": 18,
     "metadata": {},
     "output_type": "execute_result"
    }
   ],
   "source": [
    "x[:,:,:,None,:].expand(batch_size, seq_len, n_kv_heads, n_rep, head_dim).reshape(batch_size, seq_len, n_kv_heads* n_rep, head_dim).shape"
   ]
  },
  {
   "cell_type": "code",
   "execution_count": null,
   "id": "6bbafe60-6e5e-4fe7-9de5-4a261f2b7fe6",
   "metadata": {},
   "outputs": [],
   "source": []
  }
 ],
 "metadata": {
  "kernelspec": {
   "display_name": "Python 3 (ipykernel)",
   "language": "python",
   "name": "python3"
  },
  "language_info": {
   "codemirror_mode": {
    "name": "ipython",
    "version": 3
   },
   "file_extension": ".py",
   "mimetype": "text/x-python",
   "name": "python",
   "nbconvert_exporter": "python",
   "pygments_lexer": "ipython3",
   "version": "3.13.7"
  }
 },
 "nbformat": 4,
 "nbformat_minor": 5
}
